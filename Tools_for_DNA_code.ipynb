{
 "cells": [
  {
   "cell_type": "code",
   "execution_count": null,
   "id": "aea5deba-5ec2-49c7-a50d-95dbaa07af04",
   "metadata": {},
   "outputs": [],
   "source": [
    "#load modules\n",
    "import pandas as pd\n",
    "from Bio.Seq import Seq\n",
    "from Bio import SeqIO\n",
    "from Bio import AlignIO\n",
    "import subprocess\n",
    "from io import StringIO\n",
    "import urllib\n",
    "#also requires mafft to be installed - conda install -c bioconda mafft in command line"
   ]
  },
  {
   "cell_type": "markdown",
   "id": "67741db4-9317-4edc-9df9-23b83d70edf7",
   "metadata": {},
   "source": [
    "## Simple tools for sequence investigation"
   ]
  },
  {
   "cell_type": "code",
   "execution_count": null,
   "id": "b190832d-f986-4429-ba01-caa518380c64",
   "metadata": {},
   "outputs": [],
   "source": [
    "#Input the sequence\n",
    "DNA_input = Seq(\"CAACAATCTCGACAGGTGCCTCAGGGACAGCTTCTTCAGCAG\")\n",
    "\n",
    "DNA_input"
   ]
  },
  {
   "cell_type": "code",
   "execution_count": null,
   "id": "30939ccb-5074-4acc-a692-703fc4b9edad",
   "metadata": {},
   "outputs": [],
   "source": [
    "#Produce the complement of the sequence\n",
    "DNA_input.complement()"
   ]
  },
  {
   "cell_type": "code",
   "execution_count": null,
   "id": "bd5f1e94-cf96-4666-a532-9db91d28267e",
   "metadata": {},
   "outputs": [],
   "source": [
    "#Produce the reverse complement of the sequence\n",
    "DNA_input.reverse_complement()"
   ]
  },
  {
   "cell_type": "code",
   "execution_count": null,
   "id": "1d4aa437-3fee-4bab-ab67-ad30cf350a87",
   "metadata": {},
   "outputs": [],
   "source": [
    "#transcribe the DNA into RNA\n",
    "transcribed_RNA = DNA_input.transcribe()\n",
    "transcribed_RNA"
   ]
  },
  {
   "cell_type": "code",
   "execution_count": null,
   "id": "f58ddd31-d881-4139-8f96-d4c9e10958b4",
   "metadata": {},
   "outputs": [],
   "source": [
    "#back transcribe RNA to DNA\n",
    "DNA_from_RNA = transcribed_RNA.back_transcribe()\n",
    "DNA_from_RNA"
   ]
  },
  {
   "cell_type": "code",
   "execution_count": null,
   "id": "c5ee6df1-7bac-423d-91d3-e1df781a8648",
   "metadata": {},
   "outputs": [],
   "source": [
    "#check whether the back transcribe has worked\n",
    "DNA_from_RNA == DNA_input"
   ]
  },
  {
   "cell_type": "code",
   "execution_count": null,
   "id": "4fb4466e-4ebb-4c2b-8244-5cd43fe240f3",
   "metadata": {},
   "outputs": [],
   "source": [
    "#can translate the RNA sequence into amino acids\n",
    "protein = DNA_input.translate()\n",
    "\n",
    "protein"
   ]
  },
  {
   "cell_type": "code",
   "execution_count": null,
   "id": "9a503401-e7ce-461c-a5c0-f6cd7a5ee30e",
   "metadata": {},
   "outputs": [],
   "source": [
    "#calculate GC% of DNA sequence\n",
    "DNA_upper = DNA_input.upper()\n",
    "print(DNA_upper)"
   ]
  },
  {
   "cell_type": "code",
   "execution_count": null,
   "id": "adfd2e3a-642e-4df7-ad04-40620910e6ef",
   "metadata": {},
   "outputs": [],
   "source": [
    "#output tells you the percentage of the GC content in the sequence\n",
    "A = DNA_upper.count(\"A\")\n",
    "T = DNA_upper.count(\"T\")\n",
    "C = DNA_upper.count(\"C\")\n",
    "G = DNA_upper.count(\"G\")\n",
    "\n",
    "GC_count = round(((G+C/(G+C+T+A)*100)),2)\n",
    "print(GC_count)"
   ]
  },
  {
   "cell_type": "markdown",
   "id": "724f525c-73b3-493d-acc3-aa67fe899428",
   "metadata": {},
   "source": [
    "## Alignment of multiple sequences"
   ]
  },
  {
   "cell_type": "code",
   "execution_count": null,
   "id": "a4cd6718-55c3-4145-8adb-e413f68391c2",
   "metadata": {},
   "outputs": [],
   "source": [
    "from urllib.request import urlretrieve\n",
    "url = (\n",
    "    \"https://raw.githubusercontent.com/lottiewilson02/SWBio_Short_Project/refs/heads/main/Sequences_Fasta2.fa\"\n",
    "    )\n",
    "filename = \"Sequences_Fasta2.fa\""
   ]
  },
  {
   "cell_type": "code",
   "execution_count": null,
   "id": "ac0fb512-3e3f-4f29-bef3-4bcd82bfcb84",
   "metadata": {},
   "outputs": [],
   "source": [
    "urlretrieve(\"https://raw.githubusercontent.com/lottiewilson02/SWBio_Short_Project/refs/heads/main/Sequences_Fasta2.fa\", \"Sequences_Fasta2.fa\")\n"
   ]
  },
  {
   "cell_type": "code",
   "execution_count": null,
   "id": "b7af3597-b655-4a0f-8415-cff316751b69",
   "metadata": {},
   "outputs": [],
   "source": [
    "#print the sequence descriptions\n",
    "for record in SeqIO.parse(\"Sequences_Fasta2.fa\", \"fasta\"):\n",
    "    print (record.id)"
   ]
  },
  {
   "cell_type": "code",
   "execution_count": null,
   "id": "334c7b60-3640-44f9-a8e9-d88495ddd323",
   "metadata": {},
   "outputs": [],
   "source": [
    "#print a list of the sequences\n",
    "list_fasta = list(SeqIO.parse(\"Sequences_Fasta2.fa\", \"fasta\"))\n",
    "print(list_fasta)"
   ]
  },
  {
   "cell_type": "code",
   "execution_count": null,
   "id": "6573c531-a99d-47a7-a9cd-047d21137802",
   "metadata": {},
   "outputs": [],
   "source": [
    "#Convert the sequence object into a string\n",
    "seq_str = ''\n",
    "for seq in list_fasta:\n",
    "    seq_str += '>' + seq.description + '\\n'\n",
    "    seq_str += str(seq.seq) + '\\n'\n",
    "\n",
    "seq_str"
   ]
  },
  {
   "cell_type": "code",
   "execution_count": null,
   "id": "6be12df6-db4f-4dce-9e06-357d719e08e6",
   "metadata": {},
   "outputs": [],
   "source": [
    "#make a subprocess for the alignment - runs a linux command line command from python\n",
    "subpro = subprocess.Popen(['mafft', '--quiet', '-'], stdin = subprocess.PIPE, stdout = subprocess.PIPE)\n",
    "subpro.stdin.write(seq_str.encode())\n",
    "subpro_out = subpro.communicate()[0].decode('utf8')\n",
    "seq_aligned = list(SeqIO.parse(StringIO(subpro_out), 'fasta'))\n",
    "subpro.stdin.close()\n",
    "\n",
    "#view alignment \n",
    "seq_aligned"
   ]
  },
  {
   "cell_type": "code",
   "execution_count": null,
   "id": "a43573fa-3549-4d8c-ac24-b847f568462f",
   "metadata": {},
   "outputs": [],
   "source": [
    "#view length of all alignment sequences to check they match \n",
    "for seq in seq_aligned:\n",
    "    print(len(seq))"
   ]
  },
  {
   "cell_type": "code",
   "execution_count": null,
   "id": "d9c8c962-d156-4775-95d3-2f7b69a65964",
   "metadata": {},
   "outputs": [],
   "source": []
  }
 ],
 "metadata": {
  "kernelspec": {
   "display_name": "Python 3 (ipykernel)",
   "language": "python",
   "name": "python3"
  },
  "language_info": {
   "codemirror_mode": {
    "name": "ipython",
    "version": 3
   },
   "file_extension": ".py",
   "mimetype": "text/x-python",
   "name": "python",
   "nbconvert_exporter": "python",
   "pygments_lexer": "ipython3",
   "version": "3.12.7"
  }
 },
 "nbformat": 4,
 "nbformat_minor": 5
}
